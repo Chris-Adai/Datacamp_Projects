{
 "cells": [
  {
   "cell_type": "markdown",
   "metadata": {
    "dc": {
     "key": "5"
    },
    "deletable": false,
    "editable": false,
    "run_control": {
     "frozen": true
    },
    "tags": [
     "context"
    ]
   },
   "source": [
    "## 1. Scala's real-world project repository data\n",
    "<p>With almost 30k commits and a history spanning over ten years, Scala is a mature programming language. It is a general-purpose programming language that has recently become another prominent language for data scientists.</p>\n",
    "<p>Scala is also an open source project. Open source projects have the advantage that their entire development histories -- who made changes, what was changed, code reviews, etc. -- are publicly available. </p>\n",
    "<p>We're going to read in, clean up, and visualize the real world project repository of Scala that spans data from a version control system (Git) as well as a project hosting site (GitHub). We will find out who has had the most influence on its development and who are the experts.</p>\n",
    "<p>The dataset we will use, which has been previously mined and extracted from GitHub, is comprised of three files:</p>\n",
    "<ol>\n",
    "<li><code>pulls_2011-2013.csv</code> contains the basic information about the pull requests, and spans from the end of 2011 up to (but not including) 2014.</li>\n",
    "<li><code>pulls_2014-2018.csv</code> contains identical information, and spans from 2014 up to 2018.</li>\n",
    "<li><code>pull_files.csv</code> contains the files that were modified by each pull request.</li>\n",
    "</ol>"
   ]
  },
  {
   "cell_type": "code",
   "execution_count": 131,
   "metadata": {
    "dc": {
     "key": "5"
    },
    "tags": [
     "sample_code"
    ]
   },
   "outputs": [],
   "source": [
    "import pandas as pd, numpy as np, matplotlib.pyplot as plt, seaborn as sns\n",
    "\n",
    "\n",
    "pulls_one = pd.read_csv('datasets/pulls_2011-2013.csv')\n",
    "pulls_two = pd.read_csv('datasets/pulls_2014-2018.csv')\n",
    "pull_files = pd.read_csv('datasets/pull_files.csv')"
   ]
  },
  {
   "cell_type": "code",
   "execution_count": 132,
   "metadata": {
    "dc": {
     "key": "5"
    },
    "hide": true,
    "tags": [
     "tests"
    ]
   },
   "outputs": [
    {
     "data": {
      "application/json": "{\"success\": true, \"summary\": {\"tests\": 3, \"failures\": 0, \"errors\": 0}, \"tests\": [{\"name\": \"__main__.test_pulls_one\", \"success\": true, \"message\": \"\"}, {\"name\": \"__main__.test_pulls_two\", \"success\": true, \"message\": \"\"}, {\"name\": \"__main__.test_pull_files\", \"success\": true, \"message\": \"\"}]}"
     },
     "metadata": {},
     "output_type": "display_data"
    },
    {
     "data": {
      "text/plain": [
       "3/3 tests passed\n"
      ]
     },
     "execution_count": 132,
     "metadata": {},
     "output_type": "execute_result"
    }
   ],
   "source": [
    "%%nose\n",
    "\n",
    "import pandas as pd\n",
    "\n",
    "def test_pulls_one():\n",
    "    correct_pulls_one = pd.read_csv('datasets/pulls_2011-2013.csv')\n",
    "    assert correct_pulls_one.equals(pulls_one), \\\n",
    "    \"Read in 'datasets/pulls_2011-2013.csv' using read_csv().\"\n",
    "\n",
    "def test_pulls_two():\n",
    "    correct_pulls_two = pd.read_csv('datasets/pulls_2014-2018.csv')\n",
    "    assert correct_pulls_two.equals(pulls_two), \\\n",
    "   \"Read in 'datasets/pulls_2014-2018.csv' using read_csv().\"\n",
    "    \n",
    "def test_pull_files():\n",
    "    correct_pull_files = pd.read_csv('datasets/pull_files.csv')\n",
    "    assert correct_pull_files.equals(pull_files), \\\n",
    "    \"Read in 'pull_files.csv' using read_csv().\""
   ]
  },
  {
   "cell_type": "markdown",
   "metadata": {
    "dc": {
     "key": "12"
    },
    "deletable": false,
    "editable": false,
    "run_control": {
     "frozen": true
    },
    "tags": [
     "context"
    ]
   },
   "source": [
    "## 2. Preparing and cleaning the data\n",
    "<p>First, we will need to combine the data from the two separate pull DataFrames. </p>\n",
    "<p>Next, the raw data extracted from GitHub contains dates in the ISO8601 format. However, <code>pandas</code> imports them as regular strings. To make our analysis easier, we need to convert the strings into Python's <code>DateTime</code> objects. <code>DateTime</code> objects have the important property that they can be compared and sorted.</p>\n",
    "<p>The pull request times are all in UTC (also known as Coordinated Universal Time). The commit times, however, are in the local time of the author with time zone information (number of hours difference from UTC). To make comparisons easy, we should convert all times to UTC.</p>"
   ]
  },
  {
   "cell_type": "markdown",
   "metadata": {
    "dc": {
     "key": "12"
    }
   },
   "source": [
    "* Combine the two pulls DataFrames and then convert `date` to a `DateTime` object.\n",
    "\n",
    "* Append `pulls_one` to `pulls_two` and assign the result to `pulls`.\n",
    "\n",
    "* Convert the `date` column for the `pulls` object from a string into a `DateTime` object.\n",
    "\n",
    "For the conversion, we recommend using pandas' **`to_datetime()`** function. Set the `utc` parameter to `True`, as this will simplify future operations.\n",
    "\n",
    "Coordinated Universal Time (UTC) is the basis for civil time today. This 24-hour time standard is kept using highly precise atomic clocks combined with the Earth's rotation."
   ]
  },
  {
   "cell_type": "code",
   "execution_count": 133,
   "metadata": {
    "dc": {
     "key": "12"
    },
    "tags": [
     "sample_code"
    ]
   },
   "outputs": [
    {
     "data": {
      "text/plain": [
       "pid                   int64\n",
       "user                 object\n",
       "date    datetime64[ns, UTC]\n",
       "dtype: object"
      ]
     },
     "execution_count": 133,
     "metadata": {},
     "output_type": "execute_result"
    }
   ],
   "source": [
    "# Append pulls_one to pulls_two\n",
    "pulls = pd.concat([pulls_one, pulls_two])\n",
    "\n",
    "# Convert the date for the pulls object\n",
    "pulls['date'] = pd.to_datetime(pulls['date'], utc=True)\n",
    "pulls.dtypes"
   ]
  },
  {
   "cell_type": "code",
   "execution_count": 134,
   "metadata": {
    "dc": {
     "key": "12"
    },
    "hide": true,
    "tags": [
     "tests"
    ]
   },
   "outputs": [
    {
     "data": {
      "application/json": "{\"success\": true, \"summary\": {\"tests\": 2, \"failures\": 0, \"errors\": 0}, \"tests\": [{\"name\": \"__main__.test_pulls_length\", \"success\": true, \"message\": \"\"}, {\"name\": \"__main__.test_pulls_type\", \"success\": true, \"message\": \"\"}]}"
     },
     "metadata": {},
     "output_type": "display_data"
    },
    {
     "data": {
      "text/plain": [
       "2/2 tests passed\n"
      ]
     },
     "execution_count": 134,
     "metadata": {},
     "output_type": "execute_result"
    }
   ],
   "source": [
    "%%nose\n",
    "\n",
    "# one or more tests of the students code. \n",
    "# The @solution should pass the tests.\n",
    "# The purpose of the tests is to try to catch common errors and to \n",
    "# give the student a hint on how to resolve these errors.\n",
    "\n",
    "def test_pulls_length():\n",
    "    assert len(pulls) == 6200, \\\n",
    "    'The DataFrame pulls does not have the correct number of rows. Did you correctly append pulls_one to pulls_two?'\n",
    "\n",
    "def test_pulls_type():\n",
    "    assert type(pulls['date'].dtype) is pd.core.dtypes.dtypes.DatetimeTZDtype, \\\n",
    "    'The date for the pull requests is not the correct type.'"
   ]
  },
  {
   "cell_type": "markdown",
   "metadata": {
    "dc": {
     "key": "19"
    },
    "deletable": false,
    "editable": false,
    "run_control": {
     "frozen": true
    },
    "tags": [
     "context"
    ]
   },
   "source": [
    "## 3. Merging the DataFrames\n",
    "<p>The data extracted comes in two separate files. Merging the two DataFrames will make it easier for us to analyze the data in the future tasks.</p>"
   ]
  },
  {
   "cell_type": "markdown",
   "metadata": {
    "dc": {
     "key": "19"
    }
   },
   "source": [
    "### ***Merge the two DataFrames***\n",
    "\n",
    "Merge `pulls` and `pull_files` on the `pid` column. Assign the result to the `data` variable.\n",
    "\n"
   ]
  },
  {
   "cell_type": "code",
   "execution_count": 135,
   "metadata": {
    "dc": {
     "key": "19"
    },
    "tags": [
     "sample_code"
    ]
   },
   "outputs": [],
   "source": [
    "# Merge the two DataFrames\n",
    "data = pulls.merge(pull_files, on='pid')"
   ]
  },
  {
   "cell_type": "code",
   "execution_count": 136,
   "metadata": {
    "dc": {
     "key": "19"
    },
    "hide": true,
    "tags": [
     "tests"
    ]
   },
   "outputs": [
    {
     "data": {
      "application/json": "{\"success\": true, \"summary\": {\"tests\": 2, \"failures\": 0, \"errors\": 0}, \"tests\": [{\"name\": \"__main__.test_merge\", \"success\": true, \"message\": \"\"}, {\"name\": \"__main__.test_merge_dataframes\", \"success\": true, \"message\": \"\"}]}"
     },
     "metadata": {},
     "output_type": "display_data"
    },
    {
     "data": {
      "text/plain": [
       "2/2 tests passed\n"
      ]
     },
     "execution_count": 136,
     "metadata": {},
     "output_type": "execute_result"
    }
   ],
   "source": [
    "%%nose\n",
    "\n",
    "# one or more tests of the students code. \n",
    "# The @solution should pass the tests.\n",
    "# The purpose of the tests is to try to catch common errors and to \n",
    "# give the student a hint on how to resolve these errors.\n",
    "\n",
    "def test_merge():\n",
    "    assert len(data) == 85588, \\\n",
    "    'The merged DataFrame does not have the correct number of rows.'\n",
    "\n",
    "def test_merge_dataframes():\n",
    "    correct_data = pulls.merge(pull_files, on='pid')\n",
    "    also_correct_data = pull_files.merge(pulls, on='pid')\n",
    "    assert correct_data.equals(data) or \\\n",
    "        also_correct_data.equals(data), \\\n",
    "        \"The DataFrames are not merged correctly.\"        "
   ]
  },
  {
   "cell_type": "markdown",
   "metadata": {
    "dc": {
     "key": "26"
    },
    "deletable": false,
    "editable": false,
    "run_control": {
     "frozen": true
    },
    "tags": [
     "context"
    ]
   },
   "source": [
    "## 4. Is the project still actively maintained?\n",
    "<p>The activity in an open source project is not very consistent. Some projects might be active for many years after the initial release, while others can slowly taper out into oblivion. Before committing to contributing to a project, it is important to understand the state of the project. Is development going steadily, or is there a drop? Has the project been abandoned altogether?</p>\n",
    "<p>The data used in this project was collected in January of 2018. We are interested in the evolution of the number of contributions up to that date.</p>\n",
    "<p>For Scala, we will do this by plotting a chart of the project's activity. We will calculate the number of pull requests submitted each (calendar) month during the project's lifetime. We will then plot these numbers to see the trend of contributions.</p>\n",
    "<ul>\n",
    "<li><p>A helpful reminder of how to access various components of a date can be found in <a href=\"https://campus.datacamp.com/courses/data-manipulation-with-pandas/slicing-and-indexing?ex=12\">this exercise of Data Manipulation with pandas</a></p></li>\n",
    "<li><p>Additionally, recall that you can group by multiple variables by passing a list to <code>.groupby()</code>. This video from <a href=\"https://campus.datacamp.com/courses/data-manipulation-with-pandas/aggregating-dataframes?ex=9\">Data Manipulation with pandas</a> should help!</p></li>\n",
    "</ul>"
   ]
  },
  {
   "cell_type": "markdown",
   "metadata": {
    "dc": {
     "key": "26"
    }
   },
   "source": [
    "### ***Calculate and plot project activity in terms of pull requests.***\n",
    "\n",
    "1. Group `data` by month and year (i.e. '2011-01', '2011-02', etc), and count the number pull requests (`pid`). Store the counts in a variable called `counts`.\n",
    "\n",
    "2. Plot `counts` using a bar chart\n"
   ]
  },
  {
   "cell_type": "code",
   "execution_count": 137,
   "metadata": {
    "dc": {
     "key": "26"
    },
    "tags": [
     "sample_code"
    ]
   },
   "outputs": [
    {
     "data": {
      "image/png": "[encoded data removed]",
      "text/plain": [
       "<Figure size 864x288 with 1 Axes>"
      ]
     },
     "metadata": {
      "needs_background": "light"
     },
     "output_type": "display_data"
    }
   ],
   "source": [
    "%matplotlib inline\n",
    "\n",
    "# Create a column that will store the month\n",
    "data['month'] = data['date'].dt.month\n",
    "\n",
    "# Create a column that will store the year\n",
    "data['year'] = data['date'].dt.year\n",
    "\n",
    "# Group by the month and year and count the pull requests\n",
    "counts = data.groupby(['year', 'month']).count()[['pid']]\n",
    "\n",
    "# Plot the results\n",
    "counts.plot(kind='bar', figsize = (12,4))\n",
    "plt.show()"
   ]
  },
  {
   "cell_type": "code",
   "execution_count": 138,
   "metadata": {
    "dc": {
     "key": "26"
    },
    "hide": true,
    "tags": [
     "tests"
    ]
   },
   "outputs": [
    {
     "data": {
      "application/json": "{\"success\": true, \"summary\": {\"tests\": 1, \"failures\": 0, \"errors\": 0}, \"tests\": [{\"name\": \"__main__.test_group_and_count\", \"success\": true, \"message\": \"\"}]}"
     },
     "metadata": {},
     "output_type": "display_data"
    },
    {
     "data": {
      "text/plain": [
       "1/1 tests passed\n"
      ]
     },
     "execution_count": 138,
     "metadata": {},
     "output_type": "execute_result"
    }
   ],
   "source": [
    "%%nose\n",
    "    \n",
    "def test_group_and_count():\n",
    "    assert len(counts) == 74, \\\n",
    "    \"The data was not grouped correctly. The history only spans 74 months.\""
   ]
  },
  {
   "cell_type": "markdown",
   "metadata": {
    "dc": {
     "key": "33"
    },
    "deletable": false,
    "editable": false,
    "run_control": {
     "frozen": true
    },
    "tags": [
     "context"
    ]
   },
   "source": [
    "## 5. Is there camaraderie in the project?\n",
    "<p>The organizational structure varies from one project to another, and it can influence your success as a contributor. A project that has a very small community might not be the best one to start working on. The small community might indicate a high barrier of entry. This can be caused by several factors, including a community that is reluctant to accept pull requests from \"outsiders,\" that the code base is hard to work with, etc. However, a large community can serve as an indicator that the project is regularly accepting pull requests from new contributors. Such a project would be a good place to start.</p>\n",
    "<p>In order to evaluate the dynamics of the community, we will plot a histogram of the number of pull requests submitted by each user. A distribution that shows that there are few people that only contribute a small number of pull requests can be used as in indicator that the project is not welcoming of new contributors. </p>"
   ]
  },
  {
   "cell_type": "markdown",
   "metadata": {
    "dc": {
     "key": "33"
    }
   },
   "source": [
    "### ***Plot pull requests by user.***\n",
    "\n",
    "* Group the pull requests by each user and count the number of pull requests they submitted. Store the counts in a variable called `by_user`.\n",
    "\n",
    "* Plot the histogram for `by_user`."
   ]
  },
  {
   "cell_type": "code",
   "execution_count": 139,
   "metadata": {
    "dc": {
     "key": "33"
    },
    "tags": [
     "sample_code"
    ]
   },
   "outputs": [
    {
     "data": {
      "image/png": "[encoded data removed]",
      "text/plain": [
       "<Figure size 432x288 with 1 Axes>"
      ]
     },
     "metadata": {
      "needs_background": "light"
     },
     "output_type": "display_data"
    }
   ],
   "source": [
    "# Required for matplotlib\n",
    "%matplotlib inline\n",
    "\n",
    "# Group by the submitter\n",
    "by_user = data.groupby('user').count()['pid']\n",
    "\n",
    "# Plot the histogram\n",
    "by_user.hist()\n",
    "plt.show()"
   ]
  },
  {
   "cell_type": "code",
   "execution_count": 140,
   "metadata": {
    "dc": {
     "key": "33"
    },
    "hide": true,
    "tags": [
     "tests"
    ]
   },
   "outputs": [
    {
     "data": {
      "application/json": "{\"success\": true, \"summary\": {\"tests\": 1, \"failures\": 0, \"errors\": 0}, \"tests\": [{\"name\": \"__main__.test_by_user\", \"success\": true, \"message\": \"\"}]}"
     },
     "metadata": {},
     "output_type": "display_data"
    },
    {
     "data": {
      "text/plain": [
       "1/1 tests passed\n"
      ]
     },
     "execution_count": 140,
     "metadata": {},
     "output_type": "execute_result"
    }
   ],
   "source": [
    "%%nose\n",
    "\n",
    "# one or more tests of the students code. \n",
    "# The @solution should pass the tests.\n",
    "# The purpose of the tests is to try to catch common errors and to \n",
    "# give the student a hint on how to resolve these errors.\n",
    "\n",
    "def test_by_user():\n",
    "    assert len(by_user) == 467 or len(by_user) == 464, \\\n",
    "    'The grouping by user is not correct'"
   ]
  },
  {
   "cell_type": "markdown",
   "metadata": {
    "dc": {
     "key": "40"
    },
    "deletable": false,
    "editable": false,
    "run_control": {
     "frozen": true
    },
    "tags": [
     "context"
    ]
   },
   "source": [
    "## 6. What files were changed in the last ten pull requests?\n",
    "<p>Choosing the right place to make a contribution is as important as choosing the project to contribute to. Some parts of the code might be stable, some might be dead. Contributing there might not have the most impact. Therefore it is important to understand the parts of the system that have been recently changed. This allows us to pinpoint the \"hot\" areas of the code where most of the activity is happening. Focusing on those parts might not the most effective use of our times.</p>"
   ]
  },
  {
   "cell_type": "markdown",
   "metadata": {
    "dc": {
     "key": "40"
    }
   },
   "source": [
    "### ***Identify the files changed in the last ten pull requests***\n",
    "\n",
    "* Select the last ten pull requests and name the resulting DataFrame `last_10`.\n",
    "\n",
    "* Merge `last_10` with the `pull_files` DataFrame on `pid`, assigning the result to `joined_pr`.\n",
    "\n",
    "* Identify the unique files in `joined_pr` (via the `file` column) using `set()`.\n",
    "\n",
    "Python's `DateTime` objects are comparable and sortable. A more recent date is larger than an older date. In task 2, we converted the `date` column into `DateTime` objects. Therefore, the largest ten values in the `date` column are the most recent ones.\n",
    "\n",
    "pandas' **`nlargest`** method is helpful for the first bullet."
   ]
  },
  {
   "cell_type": "code",
   "execution_count": 141,
   "metadata": {
    "dc": {
     "key": "40"
    }
   },
   "outputs": [
    {
     "data": {
      "text/html": [
       "<div>\n",
       "<style scoped>\n",
       "    .dataframe tbody tr th:only-of-type {\n",
       "        vertical-align: middle;\n",
       "    }\n",
       "\n",
       "    .dataframe tbody tr th {\n",
       "        vertical-align: top;\n",
       "    }\n",
       "\n",
       "    .dataframe thead th {\n",
       "        text-align: right;\n",
       "    }\n",
       "</style>\n",
       "<table border=\"1\" class=\"dataframe\">\n",
       "  <thead>\n",
       "    <tr style=\"text-align: right;\">\n",
       "      <th></th>\n",
       "      <th>pid</th>\n",
       "      <th>user</th>\n",
       "      <th>date</th>\n",
       "      <th>file</th>\n",
       "    </tr>\n",
       "  </thead>\n",
       "  <tbody>\n",
       "    <tr>\n",
       "      <th>0</th>\n",
       "      <td>163314316</td>\n",
       "      <td>hrhino</td>\n",
       "      <td>2018-01-16 23:29:16+00:00</td>\n",
       "      <td>test/files/pos/t5638/Among.java</td>\n",
       "    </tr>\n",
       "    <tr>\n",
       "      <th>1</th>\n",
       "      <td>163314316</td>\n",
       "      <td>hrhino</td>\n",
       "      <td>2018-01-16 23:29:16+00:00</td>\n",
       "      <td>test/files/pos/t5638/Usage.scala</td>\n",
       "    </tr>\n",
       "    <tr>\n",
       "      <th>2</th>\n",
       "      <td>163314316</td>\n",
       "      <td>hrhino</td>\n",
       "      <td>2018-01-16 23:29:16+00:00</td>\n",
       "      <td>test/files/pos/t9291.scala</td>\n",
       "    </tr>\n",
       "    <tr>\n",
       "      <th>3</th>\n",
       "      <td>163314316</td>\n",
       "      <td>hrhino</td>\n",
       "      <td>2018-01-16 23:29:16+00:00</td>\n",
       "      <td>test/files/run/t8348.check</td>\n",
       "    </tr>\n",
       "    <tr>\n",
       "      <th>4</th>\n",
       "      <td>163314316</td>\n",
       "      <td>hrhino</td>\n",
       "      <td>2018-01-16 23:29:16+00:00</td>\n",
       "      <td>test/files/run/t8348/TableColumn.java</td>\n",
       "    </tr>\n",
       "    <tr>\n",
       "      <th>5</th>\n",
       "      <td>163314316</td>\n",
       "      <td>hrhino</td>\n",
       "      <td>2018-01-16 23:29:16+00:00</td>\n",
       "      <td>test/files/run/t8348/TableColumnImpl.java</td>\n",
       "    </tr>\n",
       "    <tr>\n",
       "      <th>6</th>\n",
       "      <td>163314316</td>\n",
       "      <td>hrhino</td>\n",
       "      <td>2018-01-16 23:29:16+00:00</td>\n",
       "      <td>test/files/run/t8348/Test.scala</td>\n",
       "    </tr>\n",
       "    <tr>\n",
       "      <th>7</th>\n",
       "      <td>163061502</td>\n",
       "      <td>joroKr21</td>\n",
       "      <td>2018-01-15 23:44:52+00:00</td>\n",
       "      <td>src/library/scala/concurrent/Lock.scala</td>\n",
       "    </tr>\n",
       "    <tr>\n",
       "      <th>8</th>\n",
       "      <td>163057333</td>\n",
       "      <td>mkeskells</td>\n",
       "      <td>2018-01-15 23:05:06+00:00</td>\n",
       "      <td>src/compiler/scala/tools/nsc/profile/AsyncHelp...</td>\n",
       "    </tr>\n",
       "    <tr>\n",
       "      <th>9</th>\n",
       "      <td>163057333</td>\n",
       "      <td>mkeskells</td>\n",
       "      <td>2018-01-15 23:05:06+00:00</td>\n",
       "      <td>src/compiler/scala/tools/nsc/profile/Profiler....</td>\n",
       "    </tr>\n",
       "    <tr>\n",
       "      <th>10</th>\n",
       "      <td>162985594</td>\n",
       "      <td>lrytz</td>\n",
       "      <td>2018-01-15 15:52:39+00:00</td>\n",
       "      <td>src/compiler/scala/tools/nsc/backend/jvm/BCode...</td>\n",
       "    </tr>\n",
       "    <tr>\n",
       "      <th>11</th>\n",
       "      <td>162985594</td>\n",
       "      <td>lrytz</td>\n",
       "      <td>2018-01-15 15:52:39+00:00</td>\n",
       "      <td>src/compiler/scala/tools/nsc/symtab/classfile/...</td>\n",
       "    </tr>\n",
       "    <tr>\n",
       "      <th>12</th>\n",
       "      <td>162985594</td>\n",
       "      <td>lrytz</td>\n",
       "      <td>2018-01-15 15:52:39+00:00</td>\n",
       "      <td>src/reflect/scala/reflect/internal/pickling/By...</td>\n",
       "    </tr>\n",
       "    <tr>\n",
       "      <th>13</th>\n",
       "      <td>162838837</td>\n",
       "      <td>zuvizudar</td>\n",
       "      <td>2018-01-14 19:16:16+00:00</td>\n",
       "      <td>src/compiler/scala/reflect/reify/phases/Calcul...</td>\n",
       "    </tr>\n",
       "    <tr>\n",
       "      <th>14</th>\n",
       "      <td>162765232</td>\n",
       "      <td>howtonotwin</td>\n",
       "      <td>2018-01-13 04:37:17+00:00</td>\n",
       "      <td>src/library/scala/Predef.scala</td>\n",
       "    </tr>\n",
       "    <tr>\n",
       "      <th>15</th>\n",
       "      <td>162765232</td>\n",
       "      <td>howtonotwin</td>\n",
       "      <td>2018-01-13 04:37:17+00:00</td>\n",
       "      <td>test/files/neg/leibniz-liskov.check</td>\n",
       "    </tr>\n",
       "    <tr>\n",
       "      <th>16</th>\n",
       "      <td>162765232</td>\n",
       "      <td>howtonotwin</td>\n",
       "      <td>2018-01-13 04:37:17+00:00</td>\n",
       "      <td>test/files/neg/leibniz-liskov.scala</td>\n",
       "    </tr>\n",
       "    <tr>\n",
       "      <th>17</th>\n",
       "      <td>162765232</td>\n",
       "      <td>howtonotwin</td>\n",
       "      <td>2018-01-13 04:37:17+00:00</td>\n",
       "      <td>test/files/pos/leibniz-liskov.scala</td>\n",
       "    </tr>\n",
       "    <tr>\n",
       "      <th>18</th>\n",
       "      <td>162765232</td>\n",
       "      <td>howtonotwin</td>\n",
       "      <td>2018-01-13 04:37:17+00:00</td>\n",
       "      <td>test/files/pos/leibniz_liskov.scala</td>\n",
       "    </tr>\n",
       "    <tr>\n",
       "      <th>19</th>\n",
       "      <td>162643301</td>\n",
       "      <td>hrhino</td>\n",
       "      <td>2018-01-12 14:29:49+00:00</td>\n",
       "      <td>src/compiler/scala/tools/nsc/typechecker/Conte...</td>\n",
       "    </tr>\n",
       "    <tr>\n",
       "      <th>20</th>\n",
       "      <td>162643301</td>\n",
       "      <td>hrhino</td>\n",
       "      <td>2018-01-12 14:29:49+00:00</td>\n",
       "      <td>test/files/pos/parallel-classloader.scala</td>\n",
       "    </tr>\n",
       "    <tr>\n",
       "      <th>21</th>\n",
       "      <td>162643301</td>\n",
       "      <td>hrhino</td>\n",
       "      <td>2018-01-12 14:29:49+00:00</td>\n",
       "      <td>test/files/pos/t10568/Converter.java</td>\n",
       "    </tr>\n",
       "    <tr>\n",
       "      <th>22</th>\n",
       "      <td>162643301</td>\n",
       "      <td>hrhino</td>\n",
       "      <td>2018-01-12 14:29:49+00:00</td>\n",
       "      <td>test/files/pos/t10568/Impl.scala</td>\n",
       "    </tr>\n",
       "    <tr>\n",
       "      <th>23</th>\n",
       "      <td>162256029</td>\n",
       "      <td>mkeskells</td>\n",
       "      <td>2018-01-10 23:20:03+00:00</td>\n",
       "      <td>src/compiler/scala/tools/nsc/backend/jvm/PostP...</td>\n",
       "    </tr>\n",
       "    <tr>\n",
       "      <th>24</th>\n",
       "      <td>162256029</td>\n",
       "      <td>mkeskells</td>\n",
       "      <td>2018-01-10 23:20:03+00:00</td>\n",
       "      <td>src/compiler/scala/tools/nsc/backend/jvm/analy...</td>\n",
       "    </tr>\n",
       "    <tr>\n",
       "      <th>25</th>\n",
       "      <td>162197834</td>\n",
       "      <td>SethTisue</td>\n",
       "      <td>2018-01-10 18:31:25+00:00</td>\n",
       "      <td>LICENSE</td>\n",
       "    </tr>\n",
       "    <tr>\n",
       "      <th>26</th>\n",
       "      <td>162197834</td>\n",
       "      <td>SethTisue</td>\n",
       "      <td>2018-01-10 18:31:25+00:00</td>\n",
       "      <td>doc/LICENSE.md</td>\n",
       "    </tr>\n",
       "    <tr>\n",
       "      <th>27</th>\n",
       "      <td>162197834</td>\n",
       "      <td>SethTisue</td>\n",
       "      <td>2018-01-10 18:31:25+00:00</td>\n",
       "      <td>doc/License.rtf</td>\n",
       "    </tr>\n",
       "    <tr>\n",
       "      <th>28</th>\n",
       "      <td>162197834</td>\n",
       "      <td>SethTisue</td>\n",
       "      <td>2018-01-10 18:31:25+00:00</td>\n",
       "      <td>project/VersionUtil.scala</td>\n",
       "    </tr>\n",
       "    <tr>\n",
       "      <th>29</th>\n",
       "      <td>162197834</td>\n",
       "      <td>SethTisue</td>\n",
       "      <td>2018-01-10 18:31:25+00:00</td>\n",
       "      <td>src/library/scala/util/Properties.scala</td>\n",
       "    </tr>\n",
       "    <tr>\n",
       "      <th>30</th>\n",
       "      <td>162197834</td>\n",
       "      <td>SethTisue</td>\n",
       "      <td>2018-01-10 18:31:25+00:00</td>\n",
       "      <td>src/scaladoc/scala/tools/nsc/doc/html/page/Ent...</td>\n",
       "    </tr>\n",
       "    <tr>\n",
       "      <th>31</th>\n",
       "      <td>162197834</td>\n",
       "      <td>SethTisue</td>\n",
       "      <td>2018-01-10 18:31:25+00:00</td>\n",
       "      <td>src/scalap/decoder.properties</td>\n",
       "    </tr>\n",
       "    <tr>\n",
       "      <th>32</th>\n",
       "      <td>162011899</td>\n",
       "      <td>joroKr21</td>\n",
       "      <td>2018-01-10 00:45:57+00:00</td>\n",
       "      <td>src/reflect/scala/reflect/internal/tpe/GlbLubs...</td>\n",
       "    </tr>\n",
       "    <tr>\n",
       "      <th>33</th>\n",
       "      <td>162011899</td>\n",
       "      <td>joroKr21</td>\n",
       "      <td>2018-01-10 00:45:57+00:00</td>\n",
       "      <td>test/files/pos/t10686.scala</td>\n",
       "    </tr>\n",
       "  </tbody>\n",
       "</table>\n",
       "</div>"
      ],
      "text/plain": [
       "          pid         user                      date                                               file\n",
       "0   163314316       hrhino 2018-01-16 23:29:16+00:00                    test/files/pos/t5638/Among.java\n",
       "1   163314316       hrhino 2018-01-16 23:29:16+00:00                   test/files/pos/t5638/Usage.scala\n",
       "2   163314316       hrhino 2018-01-16 23:29:16+00:00                         test/files/pos/t9291.scala\n",
       "3   163314316       hrhino 2018-01-16 23:29:16+00:00                         test/files/run/t8348.check\n",
       "4   163314316       hrhino 2018-01-16 23:29:16+00:00              test/files/run/t8348/TableColumn.java\n",
       "5   163314316       hrhino 2018-01-16 23:29:16+00:00          test/files/run/t8348/TableColumnImpl.java\n",
       "6   163314316       hrhino 2018-01-16 23:29:16+00:00                    test/files/run/t8348/Test.scala\n",
       "7   163061502     joroKr21 2018-01-15 23:44:52+00:00            src/library/scala/concurrent/Lock.scala\n",
       "8   163057333    mkeskells 2018-01-15 23:05:06+00:00  src/compiler/scala/tools/nsc/profile/AsyncHelp...\n",
       "9   163057333    mkeskells 2018-01-15 23:05:06+00:00  src/compiler/scala/tools/nsc/profile/Profiler....\n",
       "10  162985594        lrytz 2018-01-15 15:52:39+00:00  src/compiler/scala/tools/nsc/backend/jvm/BCode...\n",
       "11  162985594        lrytz 2018-01-15 15:52:39+00:00  src/compiler/scala/tools/nsc/symtab/classfile/...\n",
       "12  162985594        lrytz 2018-01-15 15:52:39+00:00  src/reflect/scala/reflect/internal/pickling/By...\n",
       "13  162838837    zuvizudar 2018-01-14 19:16:16+00:00  src/compiler/scala/reflect/reify/phases/Calcul...\n",
       "14  162765232  howtonotwin 2018-01-13 04:37:17+00:00                     src/library/scala/Predef.scala\n",
       "15  162765232  howtonotwin 2018-01-13 04:37:17+00:00                test/files/neg/leibniz-liskov.check\n",
       "16  162765232  howtonotwin 2018-01-13 04:37:17+00:00                test/files/neg/leibniz-liskov.scala\n",
       "17  162765232  howtonotwin 2018-01-13 04:37:17+00:00                test/files/pos/leibniz-liskov.scala\n",
       "18  162765232  howtonotwin 2018-01-13 04:37:17+00:00                test/files/pos/leibniz_liskov.scala\n",
       "19  162643301       hrhino 2018-01-12 14:29:49+00:00  src/compiler/scala/tools/nsc/typechecker/Conte...\n",
       "20  162643301       hrhino 2018-01-12 14:29:49+00:00          test/files/pos/parallel-classloader.scala\n",
       "21  162643301       hrhino 2018-01-12 14:29:49+00:00               test/files/pos/t10568/Converter.java\n",
       "22  162643301       hrhino 2018-01-12 14:29:49+00:00                   test/files/pos/t10568/Impl.scala\n",
       "23  162256029    mkeskells 2018-01-10 23:20:03+00:00  src/compiler/scala/tools/nsc/backend/jvm/PostP...\n",
       "24  162256029    mkeskells 2018-01-10 23:20:03+00:00  src/compiler/scala/tools/nsc/backend/jvm/analy...\n",
       "25  162197834    SethTisue 2018-01-10 18:31:25+00:00                                            LICENSE\n",
       "26  162197834    SethTisue 2018-01-10 18:31:25+00:00                                     doc/LICENSE.md\n",
       "27  162197834    SethTisue 2018-01-10 18:31:25+00:00                                    doc/License.rtf\n",
       "28  162197834    SethTisue 2018-01-10 18:31:25+00:00                          project/VersionUtil.scala\n",
       "29  162197834    SethTisue 2018-01-10 18:31:25+00:00            src/library/scala/util/Properties.scala\n",
       "30  162197834    SethTisue 2018-01-10 18:31:25+00:00  src/scaladoc/scala/tools/nsc/doc/html/page/Ent...\n",
       "31  162197834    SethTisue 2018-01-10 18:31:25+00:00                      src/scalap/decoder.properties\n",
       "32  162011899     joroKr21 2018-01-10 00:45:57+00:00  src/reflect/scala/reflect/internal/tpe/GlbLubs...\n",
       "33  162011899     joroKr21 2018-01-10 00:45:57+00:00                        test/files/pos/t10686.scala"
      ]
     },
     "execution_count": 141,
     "metadata": {},
     "output_type": "execute_result"
    }
   ],
   "source": [
    "pulls.nlargest(columns='date', n=10).merge(pull_files, on='pid')"
   ]
  },
  {
   "cell_type": "code",
   "execution_count": 142,
   "metadata": {
    "dc": {
     "key": "40"
    },
    "tags": [
     "sample_code"
    ]
   },
   "outputs": [
    {
     "data": {
      "text/plain": [
       "{'LICENSE',\n",
       " 'doc/LICENSE.md',\n",
       " 'doc/License.rtf',\n",
       " 'project/VersionUtil.scala',\n",
       " 'src/compiler/scala/reflect/reify/phases/Calculate.scala',\n",
       " 'src/compiler/scala/tools/nsc/backend/jvm/BCodeHelpers.scala',\n",
       " 'src/compiler/scala/tools/nsc/backend/jvm/PostProcessor.scala',\n",
       " 'src/compiler/scala/tools/nsc/backend/jvm/analysis/BackendUtils.scala',\n",
       " 'src/compiler/scala/tools/nsc/profile/AsyncHelper.scala',\n",
       " 'src/compiler/scala/tools/nsc/profile/Profiler.scala',\n",
       " 'src/compiler/scala/tools/nsc/symtab/classfile/ClassfileParser.scala',\n",
       " 'src/compiler/scala/tools/nsc/typechecker/Contexts.scala',\n",
       " 'src/library/scala/Predef.scala',\n",
       " 'src/library/scala/concurrent/Lock.scala',\n",
       " 'src/library/scala/util/Properties.scala',\n",
       " 'src/reflect/scala/reflect/internal/pickling/ByteCodecs.scala',\n",
       " 'src/reflect/scala/reflect/internal/tpe/GlbLubs.scala',\n",
       " 'src/scaladoc/scala/tools/nsc/doc/html/page/Entity.scala',\n",
       " 'src/scalap/decoder.properties',\n",
       " 'test/files/neg/leibniz-liskov.check',\n",
       " 'test/files/neg/leibniz-liskov.scala',\n",
       " 'test/files/pos/leibniz-liskov.scala',\n",
       " 'test/files/pos/leibniz_liskov.scala',\n",
       " 'test/files/pos/parallel-classloader.scala',\n",
       " 'test/files/pos/t10568/Converter.java',\n",
       " 'test/files/pos/t10568/Impl.scala',\n",
       " 'test/files/pos/t10686.scala',\n",
       " 'test/files/pos/t5638/Among.java',\n",
       " 'test/files/pos/t5638/Usage.scala',\n",
       " 'test/files/pos/t9291.scala',\n",
       " 'test/files/run/t8348.check',\n",
       " 'test/files/run/t8348/TableColumn.java',\n",
       " 'test/files/run/t8348/TableColumnImpl.java',\n",
       " 'test/files/run/t8348/Test.scala'}"
      ]
     },
     "execution_count": 142,
     "metadata": {},
     "output_type": "execute_result"
    }
   ],
   "source": [
    "# Identify the last 10 pull requests\n",
    "last_10 = pulls.nlargest(columns='date', n=10)\n",
    "\n",
    "# Join the two data sets\n",
    "joined_pr = last_10.merge(pull_files, on='pid')\n",
    "\n",
    "# Identify the unique files\n",
    "files = set(joined_pr['file'])\n",
    "\n",
    "# Print the results\n",
    "files"
   ]
  },
  {
   "cell_type": "code",
   "execution_count": 143,
   "metadata": {
    "dc": {
     "key": "40"
    },
    "hide": true,
    "tags": [
     "tests"
    ]
   },
   "outputs": [
    {
     "data": {
      "application/json": "{\"success\": true, \"summary\": {\"tests\": 3, \"failures\": 0, \"errors\": 0}, \"tests\": [{\"name\": \"__main__.test_last_10\", \"success\": true, \"message\": \"\"}, {\"name\": \"__main__.test_join\", \"success\": true, \"message\": \"\"}, {\"name\": \"__main__.test_no_files\", \"success\": true, \"message\": \"\"}]}"
     },
     "metadata": {},
     "output_type": "display_data"
    },
    {
     "data": {
      "text/plain": [
       "3/3 tests passed\n"
      ]
     },
     "execution_count": 143,
     "metadata": {},
     "output_type": "execute_result"
    }
   ],
   "source": [
    "%%nose\n",
    "\n",
    "# one or more tests of the students code. \n",
    "# The @solution should pass the tests.\n",
    "# The purpose of the tests is to try to catch common errors and to \n",
    "# give the student a hint on how to resolve these errors.\n",
    "\n",
    "def test_last_10():\n",
    "    assert len(last_10) == 10, \\\n",
    "    'You need to select the last 10 pull requests.'\n",
    "\n",
    "def test_join():\n",
    "    assert len(joined_pr) == 34, \\\n",
    "    'The join was not done correctly. You lost some pull requests in the process.'\n",
    "    \n",
    "def test_no_files():\n",
    "    assert len(files) == 34, \\\n",
    "    'You did not select the right number of pull requests.'"
   ]
  },
  {
   "cell_type": "markdown",
   "metadata": {
    "dc": {
     "key": "47"
    },
    "deletable": false,
    "editable": false,
    "run_control": {
     "frozen": true
    },
    "tags": [
     "context"
    ]
   },
   "source": [
    "## 7. Who made the most pull requests to a given file?\n",
    "<p>When contributing to a project, we might need some guidance. We might find ourselves needing some information regarding the codebase. It is important direct any questions to the right person. Contributors to open source projects generally have other day jobs, so their time is limited. It is important to address our questions to the right people. One way to identify the right target for our inquiries is by using their contribution history.</p>\n",
    "<p>We identified <code>src/compiler/scala/reflect/reify/phases/Calculate.scala</code> as being recently changed. We are interested in the top 3 developers who changed that file. Those developers are the ones most likely to have the best understanding of the code.</p>"
   ]
  },
  {
   "cell_type": "markdown",
   "metadata": {
    "dc": {
     "key": "47"
    }
   },
   "source": [
    "### ***Identify the top 3 developers that submitted pull requests to `src/compiler/scala/reflect/reify/phases/Calculate.scala`.***\n",
    "\n",
    "* Select the pull requests that changed that file and name the resulting DataFrame `file_pr`.\n",
    "\n",
    "* Count the number of changes made by each developer and name the resulting DataFrame `author_counts`.\n",
    "\n",
    "* Print the top 3 developers.\n",
    "\n",
    "pandas' **`nlargest`** method (documentation) is helpful for the third bullet."
   ]
  },
  {
   "cell_type": "code",
   "execution_count": 144,
   "metadata": {
    "dc": {
     "key": "47"
    }
   },
   "outputs": [
    {
     "data": {
      "text/html": [
       "<div>\n",
       "<style scoped>\n",
       "    .dataframe tbody tr th:only-of-type {\n",
       "        vertical-align: middle;\n",
       "    }\n",
       "\n",
       "    .dataframe tbody tr th {\n",
       "        vertical-align: top;\n",
       "    }\n",
       "\n",
       "    .dataframe thead th {\n",
       "        text-align: right;\n",
       "    }\n",
       "</style>\n",
       "<table border=\"1\" class=\"dataframe\">\n",
       "  <thead>\n",
       "    <tr style=\"text-align: right;\">\n",
       "      <th></th>\n",
       "      <th>pid</th>\n",
       "      <th>user</th>\n",
       "      <th>date</th>\n",
       "      <th>file</th>\n",
       "      <th>month</th>\n",
       "      <th>year</th>\n",
       "    </tr>\n",
       "  </thead>\n",
       "  <tbody>\n",
       "    <tr>\n",
       "      <th>1234</th>\n",
       "      <td>10587633</td>\n",
       "      <td>retronym</td>\n",
       "      <td>2013-12-06 10:04:43+00:00</td>\n",
       "      <td>src/compiler/scala/reflect/reify/phases/Calcul...</td>\n",
       "      <td>12</td>\n",
       "      <td>2013</td>\n",
       "    </tr>\n",
       "    <tr>\n",
       "      <th>12514</th>\n",
       "      <td>5320191</td>\n",
       "      <td>soc</td>\n",
       "      <td>2013-04-23 15:47:45+00:00</td>\n",
       "      <td>src/compiler/scala/reflect/reify/phases/Calcul...</td>\n",
       "      <td>4</td>\n",
       "      <td>2013</td>\n",
       "    </tr>\n",
       "    <tr>\n",
       "      <th>12823</th>\n",
       "      <td>5291974</td>\n",
       "      <td>bjornregnell</td>\n",
       "      <td>2013-04-22 13:56:06+00:00</td>\n",
       "      <td>src/compiler/scala/reflect/reify/phases/Calcul...</td>\n",
       "      <td>4</td>\n",
       "      <td>2013</td>\n",
       "    </tr>\n",
       "    <tr>\n",
       "      <th>13381</th>\n",
       "      <td>5050360</td>\n",
       "      <td>retronym</td>\n",
       "      <td>2013-04-09 06:13:57+00:00</td>\n",
       "      <td>src/compiler/scala/reflect/reify/phases/Calcul...</td>\n",
       "      <td>4</td>\n",
       "      <td>2013</td>\n",
       "    </tr>\n",
       "    <tr>\n",
       "      <th>13779</th>\n",
       "      <td>5026775</td>\n",
       "      <td>retronym</td>\n",
       "      <td>2013-04-08 07:07:45+00:00</td>\n",
       "      <td>src/compiler/scala/reflect/reify/phases/Calcul...</td>\n",
       "      <td>4</td>\n",
       "      <td>2013</td>\n",
       "    </tr>\n",
       "    <tr>\n",
       "      <th>14970</th>\n",
       "      <td>4786005</td>\n",
       "      <td>starblood</td>\n",
       "      <td>2013-03-25 02:48:48+00:00</td>\n",
       "      <td>src/compiler/scala/reflect/reify/phases/Calcul...</td>\n",
       "      <td>3</td>\n",
       "      <td>2013</td>\n",
       "    </tr>\n",
       "    <tr>\n",
       "      <th>17127</th>\n",
       "      <td>4295399</td>\n",
       "      <td>retronym</td>\n",
       "      <td>2013-02-24 21:43:43+00:00</td>\n",
       "      <td>src/compiler/scala/reflect/reify/phases/Calcul...</td>\n",
       "      <td>2</td>\n",
       "      <td>2013</td>\n",
       "    </tr>\n",
       "    <tr>\n",
       "      <th>18341</th>\n",
       "      <td>4019878</td>\n",
       "      <td>soc</td>\n",
       "      <td>2013-02-06 18:24:21+00:00</td>\n",
       "      <td>src/compiler/scala/reflect/reify/phases/Calcul...</td>\n",
       "      <td>2</td>\n",
       "      <td>2013</td>\n",
       "    </tr>\n",
       "    <tr>\n",
       "      <th>19174</th>\n",
       "      <td>3918789</td>\n",
       "      <td>gkossakowski</td>\n",
       "      <td>2013-01-31 00:43:19+00:00</td>\n",
       "      <td>src/compiler/scala/reflect/reify/phases/Calcul...</td>\n",
       "      <td>1</td>\n",
       "      <td>2013</td>\n",
       "    </tr>\n",
       "    <tr>\n",
       "      <th>19834</th>\n",
       "      <td>3854688</td>\n",
       "      <td>melloc</td>\n",
       "      <td>2013-01-26 22:47:32+00:00</td>\n",
       "      <td>src/compiler/scala/reflect/reify/phases/Calcul...</td>\n",
       "      <td>1</td>\n",
       "      <td>2013</td>\n",
       "    </tr>\n",
       "    <tr>\n",
       "      <th>24668</th>\n",
       "      <td>3290864</td>\n",
       "      <td>densh</td>\n",
       "      <td>2012-12-08 15:18:04+00:00</td>\n",
       "      <td>src/compiler/scala/reflect/reify/phases/Calcul...</td>\n",
       "      <td>12</td>\n",
       "      <td>2012</td>\n",
       "    </tr>\n",
       "    <tr>\n",
       "      <th>27074</th>\n",
       "      <td>2919907</td>\n",
       "      <td>paulp</td>\n",
       "      <td>2012-11-07 21:13:47+00:00</td>\n",
       "      <td>src/compiler/scala/reflect/reify/phases/Calcul...</td>\n",
       "      <td>11</td>\n",
       "      <td>2012</td>\n",
       "    </tr>\n",
       "    <tr>\n",
       "      <th>28951</th>\n",
       "      <td>2721711</td>\n",
       "      <td>soc</td>\n",
       "      <td>2012-10-21 19:58:20+00:00</td>\n",
       "      <td>src/compiler/scala/reflect/reify/phases/Calcul...</td>\n",
       "      <td>10</td>\n",
       "      <td>2012</td>\n",
       "    </tr>\n",
       "    <tr>\n",
       "      <th>35284</th>\n",
       "      <td>2089264</td>\n",
       "      <td>paulp</td>\n",
       "      <td>2012-08-17 16:15:26+00:00</td>\n",
       "      <td>src/compiler/scala/reflect/reify/phases/Calcul...</td>\n",
       "      <td>8</td>\n",
       "      <td>2012</td>\n",
       "    </tr>\n",
       "    <tr>\n",
       "      <th>35498</th>\n",
       "      <td>2072662</td>\n",
       "      <td>xeno-by</td>\n",
       "      <td>2012-08-16 05:39:22+00:00</td>\n",
       "      <td>src/compiler/scala/reflect/reify/phases/Calcul...</td>\n",
       "      <td>8</td>\n",
       "      <td>2012</td>\n",
       "    </tr>\n",
       "    <tr>\n",
       "      <th>35608</th>\n",
       "      <td>2071228</td>\n",
       "      <td>xeno-by</td>\n",
       "      <td>2012-08-15 23:41:59+00:00</td>\n",
       "      <td>src/compiler/scala/reflect/reify/phases/Calcul...</td>\n",
       "      <td>8</td>\n",
       "      <td>2012</td>\n",
       "    </tr>\n",
       "    <tr>\n",
       "      <th>36860</th>\n",
       "      <td>1984445</td>\n",
       "      <td>soc</td>\n",
       "      <td>2012-08-06 18:38:28+00:00</td>\n",
       "      <td>src/compiler/scala/reflect/reify/phases/Calcul...</td>\n",
       "      <td>8</td>\n",
       "      <td>2012</td>\n",
       "    </tr>\n",
       "    <tr>\n",
       "      <th>42404</th>\n",
       "      <td>1522783</td>\n",
       "      <td>xeno-by</td>\n",
       "      <td>2012-06-08 13:43:35+00:00</td>\n",
       "      <td>src/compiler/scala/reflect/reify/phases/Calcul...</td>\n",
       "      <td>6</td>\n",
       "      <td>2012</td>\n",
       "    </tr>\n",
       "    <tr>\n",
       "      <th>42712</th>\n",
       "      <td>1522613</td>\n",
       "      <td>xeno-by</td>\n",
       "      <td>2012-06-08 13:22:10+00:00</td>\n",
       "      <td>src/compiler/scala/reflect/reify/phases/Calcul...</td>\n",
       "      <td>6</td>\n",
       "      <td>2012</td>\n",
       "    </tr>\n",
       "    <tr>\n",
       "      <th>43102</th>\n",
       "      <td>1482038</td>\n",
       "      <td>xeno-by</td>\n",
       "      <td>2012-06-03 18:01:36+00:00</td>\n",
       "      <td>src/compiler/scala/reflect/reify/phases/Calcul...</td>\n",
       "      <td>6</td>\n",
       "      <td>2012</td>\n",
       "    </tr>\n",
       "    <tr>\n",
       "      <th>43435</th>\n",
       "      <td>1482035</td>\n",
       "      <td>xeno-by</td>\n",
       "      <td>2012-06-03 18:00:39+00:00</td>\n",
       "      <td>src/compiler/scala/reflect/reify/phases/Calcul...</td>\n",
       "      <td>6</td>\n",
       "      <td>2012</td>\n",
       "    </tr>\n",
       "    <tr>\n",
       "      <th>43751</th>\n",
       "      <td>1480230</td>\n",
       "      <td>xeno-by</td>\n",
       "      <td>2012-06-02 17:20:02+00:00</td>\n",
       "      <td>src/compiler/scala/reflect/reify/phases/Calcul...</td>\n",
       "      <td>6</td>\n",
       "      <td>2012</td>\n",
       "    </tr>\n",
       "    <tr>\n",
       "      <th>46086</th>\n",
       "      <td>1210959</td>\n",
       "      <td>xeno-by</td>\n",
       "      <td>2012-04-22 22:50:51+00:00</td>\n",
       "      <td>src/compiler/scala/reflect/reify/phases/Calcul...</td>\n",
       "      <td>4</td>\n",
       "      <td>2012</td>\n",
       "    </tr>\n",
       "    <tr>\n",
       "      <th>46789</th>\n",
       "      <td>1164069</td>\n",
       "      <td>odersky</td>\n",
       "      <td>2012-04-14 02:21:49+00:00</td>\n",
       "      <td>src/compiler/scala/reflect/reify/phases/Calcul...</td>\n",
       "      <td>4</td>\n",
       "      <td>2012</td>\n",
       "    </tr>\n",
       "    <tr>\n",
       "      <th>47089</th>\n",
       "      <td>1163831</td>\n",
       "      <td>odersky</td>\n",
       "      <td>2012-04-14 00:40:37+00:00</td>\n",
       "      <td>src/compiler/scala/reflect/reify/phases/Calcul...</td>\n",
       "      <td>4</td>\n",
       "      <td>2012</td>\n",
       "    </tr>\n",
       "    <tr>\n",
       "      <th>47702</th>\n",
       "      <td>1150233</td>\n",
       "      <td>xeno-by</td>\n",
       "      <td>2012-04-12 10:25:43+00:00</td>\n",
       "      <td>src/compiler/scala/reflect/reify/phases/Calcul...</td>\n",
       "      <td>4</td>\n",
       "      <td>2012</td>\n",
       "    </tr>\n",
       "    <tr>\n",
       "      <th>48016</th>\n",
       "      <td>1148013</td>\n",
       "      <td>xeno-by</td>\n",
       "      <td>2012-04-12 00:05:33+00:00</td>\n",
       "      <td>src/compiler/scala/reflect/reify/phases/Calcul...</td>\n",
       "      <td>4</td>\n",
       "      <td>2012</td>\n",
       "    </tr>\n",
       "    <tr>\n",
       "      <th>51415</th>\n",
       "      <td>162838837</td>\n",
       "      <td>zuvizudar</td>\n",
       "      <td>2018-01-14 19:16:16+00:00</td>\n",
       "      <td>src/compiler/scala/reflect/reify/phases/Calcul...</td>\n",
       "      <td>1</td>\n",
       "      <td>2018</td>\n",
       "    </tr>\n",
       "    <tr>\n",
       "      <th>78353</th>\n",
       "      <td>22845163</td>\n",
       "      <td>retronym</td>\n",
       "      <td>2014-10-16 10:23:42+00:00</td>\n",
       "      <td>src/compiler/scala/reflect/reify/phases/Calcul...</td>\n",
       "      <td>10</td>\n",
       "      <td>2014</td>\n",
       "    </tr>\n",
       "    <tr>\n",
       "      <th>84155</th>\n",
       "      <td>12102550</td>\n",
       "      <td>xeno-by</td>\n",
       "      <td>2014-02-01 01:19:58+00:00</td>\n",
       "      <td>src/compiler/scala/reflect/reify/phases/Calcul...</td>\n",
       "      <td>2</td>\n",
       "      <td>2014</td>\n",
       "    </tr>\n",
       "  </tbody>\n",
       "</table>\n",
       "</div>"
      ],
      "text/plain": [
       "             pid          user                      date                                               file  month  year\n",
       "1234    10587633      retronym 2013-12-06 10:04:43+00:00  src/compiler/scala/reflect/reify/phases/Calcul...     12  2013\n",
       "12514    5320191           soc 2013-04-23 15:47:45+00:00  src/compiler/scala/reflect/reify/phases/Calcul...      4  2013\n",
       "12823    5291974  bjornregnell 2013-04-22 13:56:06+00:00  src/compiler/scala/reflect/reify/phases/Calcul...      4  2013\n",
       "13381    5050360      retronym 2013-04-09 06:13:57+00:00  src/compiler/scala/reflect/reify/phases/Calcul...      4  2013\n",
       "13779    5026775      retronym 2013-04-08 07:07:45+00:00  src/compiler/scala/reflect/reify/phases/Calcul...      4  2013\n",
       "14970    4786005     starblood 2013-03-25 02:48:48+00:00  src/compiler/scala/reflect/reify/phases/Calcul...      3  2013\n",
       "17127    4295399      retronym 2013-02-24 21:43:43+00:00  src/compiler/scala/reflect/reify/phases/Calcul...      2  2013\n",
       "18341    4019878           soc 2013-02-06 18:24:21+00:00  src/compiler/scala/reflect/reify/phases/Calcul...      2  2013\n",
       "19174    3918789  gkossakowski 2013-01-31 00:43:19+00:00  src/compiler/scala/reflect/reify/phases/Calcul...      1  2013\n",
       "19834    3854688        melloc 2013-01-26 22:47:32+00:00  src/compiler/scala/reflect/reify/phases/Calcul...      1  2013\n",
       "24668    3290864         densh 2012-12-08 15:18:04+00:00  src/compiler/scala/reflect/reify/phases/Calcul...     12  2012\n",
       "27074    2919907         paulp 2012-11-07 21:13:47+00:00  src/compiler/scala/reflect/reify/phases/Calcul...     11  2012\n",
       "28951    2721711           soc 2012-10-21 19:58:20+00:00  src/compiler/scala/reflect/reify/phases/Calcul...     10  2012\n",
       "35284    2089264         paulp 2012-08-17 16:15:26+00:00  src/compiler/scala/reflect/reify/phases/Calcul...      8  2012\n",
       "35498    2072662       xeno-by 2012-08-16 05:39:22+00:00  src/compiler/scala/reflect/reify/phases/Calcul...      8  2012\n",
       "35608    2071228       xeno-by 2012-08-15 23:41:59+00:00  src/compiler/scala/reflect/reify/phases/Calcul...      8  2012\n",
       "36860    1984445           soc 2012-08-06 18:38:28+00:00  src/compiler/scala/reflect/reify/phases/Calcul...      8  2012\n",
       "42404    1522783       xeno-by 2012-06-08 13:43:35+00:00  src/compiler/scala/reflect/reify/phases/Calcul...      6  2012\n",
       "42712    1522613       xeno-by 2012-06-08 13:22:10+00:00  src/compiler/scala/reflect/reify/phases/Calcul...      6  2012\n",
       "43102    1482038       xeno-by 2012-06-03 18:01:36+00:00  src/compiler/scala/reflect/reify/phases/Calcul...      6  2012\n",
       "43435    1482035       xeno-by 2012-06-03 18:00:39+00:00  src/compiler/scala/reflect/reify/phases/Calcul...      6  2012\n",
       "43751    1480230       xeno-by 2012-06-02 17:20:02+00:00  src/compiler/scala/reflect/reify/phases/Calcul...      6  2012\n",
       "46086    1210959       xeno-by 2012-04-22 22:50:51+00:00  src/compiler/scala/reflect/reify/phases/Calcul...      4  2012\n",
       "46789    1164069       odersky 2012-04-14 02:21:49+00:00  src/compiler/scala/reflect/reify/phases/Calcul...      4  2012\n",
       "47089    1163831       odersky 2012-04-14 00:40:37+00:00  src/compiler/scala/reflect/reify/phases/Calcul...      4  2012\n",
       "47702    1150233       xeno-by 2012-04-12 10:25:43+00:00  src/compiler/scala/reflect/reify/phases/Calcul...      4  2012\n",
       "48016    1148013       xeno-by 2012-04-12 00:05:33+00:00  src/compiler/scala/reflect/reify/phases/Calcul...      4  2012\n",
       "51415  162838837     zuvizudar 2018-01-14 19:16:16+00:00  src/compiler/scala/reflect/reify/phases/Calcul...      1  2018\n",
       "78353   22845163      retronym 2014-10-16 10:23:42+00:00  src/compiler/scala/reflect/reify/phases/Calcul...     10  2014\n",
       "84155   12102550       xeno-by 2014-02-01 01:19:58+00:00  src/compiler/scala/reflect/reify/phases/Calcul...      2  2014"
      ]
     },
     "execution_count": 144,
     "metadata": {},
     "output_type": "execute_result"
    }
   ],
   "source": [
    "data[data['file']=='src/compiler/scala/reflect/reify/phases/Calculate.scala']"
   ]
  },
  {
   "cell_type": "code",
   "execution_count": 145,
   "metadata": {
    "dc": {
     "key": "47"
    },
    "tags": [
     "sample_code"
    ]
   },
   "outputs": [
    {
     "data": {
      "text/plain": [
       "user\n",
       "xeno-by     11\n",
       "retronym     5\n",
       "soc          4\n",
       "Name: file, dtype: int64"
      ]
     },
     "execution_count": 145,
     "metadata": {},
     "output_type": "execute_result"
    }
   ],
   "source": [
    "# This is the file we are interested in:\n",
    "file = 'src/compiler/scala/reflect/reify/phases/Calculate.scala'\n",
    "\n",
    "# Identify the commits that changed the file\n",
    "file_pr = data[data['file']=='src/compiler/scala/reflect/reify/phases/Calculate.scala']\n",
    "\n",
    "# Count the number of changes made by each developer\n",
    "author_counts = file_pr.groupby('user').count()['file']\n",
    "\n",
    "# Print the top 3 developers\n",
    "author_counts.nlargest(n=3)"
   ]
  },
  {
   "cell_type": "code",
   "execution_count": 146,
   "metadata": {
    "dc": {
     "key": "47"
    },
    "hide": true,
    "tags": [
     "tests"
    ]
   },
   "outputs": [
    {
     "data": {
      "application/json": "{\"success\": true, \"summary\": {\"tests\": 2, \"failures\": 0, \"errors\": 0}, \"tests\": [{\"name\": \"__main__.test_selecting_commits\", \"success\": true, \"message\": \"\"}, {\"name\": \"__main__.test_author_counts\", \"success\": true, \"message\": \"\"}]}"
     },
     "metadata": {},
     "output_type": "display_data"
    },
    {
     "data": {
      "text/plain": [
       "2/2 tests passed\n"
      ]
     },
     "execution_count": 146,
     "metadata": {},
     "output_type": "execute_result"
    }
   ],
   "source": [
    "%%nose\n",
    "\n",
    "# one or more tests of the students code. \n",
    "# The @solution should pass the tests.\n",
    "# The purpose of the tests is to try to catch common errors and to \n",
    "# give the student a hint on how to resolve these errors.\n",
    "\n",
    "def test_selecting_commits():\n",
    "    assert len(file_pr) == 30, \\\n",
    "    'You did not filter the data on the right file.'\n",
    "    \n",
    "def test_author_counts():\n",
    "    assert len(author_counts) == 11, \\\n",
    "    'The number of authors is not correct.'"
   ]
  },
  {
   "cell_type": "markdown",
   "metadata": {
    "dc": {
     "key": "54"
    },
    "deletable": false,
    "editable": false,
    "run_control": {
     "frozen": true
    },
    "tags": [
     "context"
    ]
   },
   "source": [
    "## 8. Who made the last ten pull requests on a given file?\n",
    "<p>Open source projects suffer from fluctuating membership. This makes the problem of finding the right person more challenging: the person has to be knowledgeable <em>and</em> still be involved in the project. A person that contributed a lot in the past might no longer be available (or willing) to help. To get a better understanding, we need to investigate the more recent history of that particular part of the system. </p>\n",
    "<p>Like in the previous task, we will look at the history of  <code>src/compiler/scala/reflect/reify/phases/Calculate.scala</code>.</p>"
   ]
  },
  {
   "cell_type": "markdown",
   "metadata": {
    "dc": {
     "key": "54"
    }
   },
   "source": [
    "* Select the pull requests that touched the file and name the resulting DataFrame `file_pr`.\n",
    "\n",
    "* Merge `file_pr` with the `pulls` DataFrame on the `pid` column and name the resulting DataFrame `joined_pr`.\n",
    "\n",
    "* Using `set()`, create a set of users for the ten most recent pull requests.\n",
    "\n",
    "To find the ten most recent pull requests, use the **`nlargest`** function of a DataFrame. "
   ]
  },
  {
   "cell_type": "code",
   "execution_count": 147,
   "metadata": {
    "dc": {
     "key": "54"
    },
    "tags": [
     "sample_code"
    ]
   },
   "outputs": [
    {
     "data": {
      "text/plain": [
       "{'bjornregnell', 'retronym', 'soc', 'starblood', 'xeno-by', 'zuvizudar'}"
      ]
     },
     "execution_count": 147,
     "metadata": {},
     "output_type": "execute_result"
    }
   ],
   "source": [
    "file = 'src/compiler/scala/reflect/reify/phases/Calculate.scala'\n",
    "\n",
    "# Select the pull requests that changed the target file\n",
    "file_pr = pull_files[pull_files['file'] == file]\n",
    "\n",
    "# Merge the obtained results with the pulls DataFrame\n",
    "joined_pr = file_pr.merge(pulls, on='pid')\n",
    "\n",
    "# Find the users of the last 10 most recent pull requests\n",
    "users_last_10 = set(joined_pr.nlargest(10, 'date')['user'])\n",
    "\n",
    "# Printing the results\n",
    "users_last_10"
   ]
  },
  {
   "cell_type": "code",
   "execution_count": 148,
   "metadata": {
    "dc": {
     "key": "54"
    },
    "hide": true,
    "tags": [
     "tests"
    ]
   },
   "outputs": [
    {
     "data": {
      "application/json": "{\"success\": true, \"summary\": {\"tests\": 3, \"failures\": 0, \"errors\": 0}, \"tests\": [{\"name\": \"__main__.test_join\", \"success\": true, \"message\": \"\"}, {\"name\": \"__main__.test_file_pr\", \"success\": true, \"message\": \"\"}, {\"name\": \"__main__.test_last_10\", \"success\": true, \"message\": \"\"}]}"
     },
     "metadata": {},
     "output_type": "display_data"
    },
    {
     "data": {
      "text/plain": [
       "3/3 tests passed\n"
      ]
     },
     "execution_count": 148,
     "metadata": {},
     "output_type": "execute_result"
    }
   ],
   "source": [
    "%%nose\n",
    "\n",
    "# one or more tests of the students code. \n",
    "# The @solution should pass the tests.\n",
    "# The purpose of the tests is to try to catch common errors and to \n",
    "# give the student a hint on how to resolve these errors.\n",
    "\n",
    "def test_join():\n",
    "    assert len(joined_pr) == len(file_pr), \\\n",
    "    'The join was not done correctly. You lost some pull requests in the process.'\n",
    "    \n",
    "def test_file_pr():\n",
    "    assert len(joined_pr) == 30, \\\n",
    "    'The file does not have the correct number of pull requests.'\n",
    "    \n",
    "def test_last_10():\n",
    "    assert len(users_last_10) == 6, \\\n",
    "    'You did not select the right number of pull requests.'"
   ]
  },
  {
   "cell_type": "markdown",
   "metadata": {
    "dc": {
     "key": "61"
    },
    "deletable": false,
    "editable": false,
    "run_control": {
     "frozen": true
    },
    "tags": [
     "context"
    ]
   },
   "source": [
    "## 9. The pull requests of two special developers\n",
    "<p>Now that we have identified two potential contacts in the projects, we need to find the person who was most involved in the project in recent times. That person is most likely to answer our questions. For each calendar year, we are interested in understanding the number of pull requests the authors submitted. This will give us a high-level image of their contribution trend to the project.</p>"
   ]
  },
  {
   "cell_type": "markdown",
   "metadata": {
    "dc": {
     "key": "61"
    }
   },
   "source": [
    "* Using the `pulls` DataFrame, select all of the pull requests by these two developers and name the resulting DataFrame `by_author`.\n",
    "\n",
    "* Fill in the `groupby` parameters to count the number of pull requests submitted by each author each year. That is, group by `user` and the year property of `date`.\n",
    "\n",
    "* Plot `counts_wide` using a bar chart.\n",
    "\n",
    "pandas' **`isin`** method (documentation will be helpful for bullet one.\n",
    "\n",
    "`DateTime` objects expose the components of a date through their `dt` accessors.\n",
    "\n",
    "`counts` is transformed to a wide format to make plotting the bar chart of pull request count (y-axis) by year (x-axis) by user (legend) easier."
   ]
  },
  {
   "cell_type": "code",
   "execution_count": 149,
   "metadata": {
    "dc": {
     "key": "61"
    },
    "tags": [
     "sample_code"
    ]
   },
   "outputs": [
    {
     "data": {
      "image/png": "[encoded data removed]",
      "text/plain": [
       "<Figure size 432x288 with 1 Axes>"
      ]
     },
     "metadata": {
      "needs_background": "light"
     },
     "output_type": "display_data"
    }
   ],
   "source": [
    "%matplotlib inline\n",
    "\n",
    "# The developers we are interested in\n",
    "authors = ['xeno-by', 'soc']\n",
    "\n",
    "# Get all the developers' pull requests\n",
    "by_author = pulls[pulls['user'].isin(authors)]\n",
    "by_author['year'] = by_author['date'].dt.year\n",
    "\n",
    "# Count the number of pull requests submitted each year\n",
    "counts = by_author.groupby(['user', 'year']).agg({'pid': 'count'}).reset_index()\n",
    "\n",
    "# Convert the table to a wide format\n",
    "counts_wide = counts.pivot_table(index='year', columns='user', values='pid', fill_value=0)\n",
    "\n",
    "# Plot the results\n",
    "counts_wide.plot(kind='bar')\n",
    "plt.show()"
   ]
  },
  {
   "cell_type": "code",
   "execution_count": 150,
   "metadata": {
    "dc": {
     "key": "61"
    },
    "hide": true,
    "tags": [
     "tests"
    ]
   },
   "outputs": [
    {
     "data": {
      "application/json": "{\"success\": true, \"summary\": {\"tests\": 2, \"failures\": 0, \"errors\": 0}, \"tests\": [{\"name\": \"__main__.test_author_pr\", \"success\": true, \"message\": \"\"}, {\"name\": \"__main__.test_counts\", \"success\": true, \"message\": \"\"}]}"
     },
     "metadata": {},
     "output_type": "display_data"
    },
    {
     "data": {
      "text/plain": [
       "2/2 tests passed\n"
      ]
     },
     "execution_count": 150,
     "metadata": {},
     "output_type": "execute_result"
    }
   ],
   "source": [
    "%%nose\n",
    "\n",
    "# one or more tests of the students code. \n",
    "# The @solution should pass the tests.\n",
    "# The purpose of the tests is to try to catch common errors and to \n",
    "# give the student a hint on how to resolve these errors.\n",
    "\n",
    "def test_author_pr():\n",
    "    assert len(by_author) == 715, \\\n",
    "    \"The wrong number of pull requests have been selected.\"\n",
    "    \n",
    "def test_counts():\n",
    "    assert len(counts) == 11, \\\n",
    "    'The data should span 6 years.'"
   ]
  },
  {
   "cell_type": "markdown",
   "metadata": {
    "dc": {
     "key": "68"
    },
    "deletable": false,
    "editable": false,
    "run_control": {
     "frozen": true
    },
    "tags": [
     "context"
    ]
   },
   "source": [
    "## 10. Visualizing the contributions of each developer\n",
    "<p>As mentioned before, it is important to make a distinction between the global expertise and contribution levels and the contribution levels at a more granular level (file, submodule, etc.) In our case, we want to see which of our two developers of interest have the most experience with the code in a given file. We will measure experience by the number of pull requests submitted that affect that file and how recent those pull requests were submitted.</p>"
   ]
  },
  {
   "cell_type": "markdown",
   "metadata": {
    "dc": {
     "key": "68"
    }
   },
   "source": [
    "* Select the pull requests submitted by the authors from the `data` DataFrame and name the results `by_author`.\n",
    "\n",
    "* Select the pull requests from `by_author` that affect the file and name the results `by_file`.\n",
    "\n",
    "* Transform `grouped` into a wide format using `pivot_table`. Name the results `by_file_wide`.\n",
    "\n",
    "The code required to complete bullet one in this task is the same as the code for bullet one in task 9, except on the `data` DataFrame instead of the `pulls` DataFrame.\n",
    "\n",
    "`by_file` is transformed to a wide format to make plotting the bar chart of pull request count (y-axis) by year (x-axis) by user (legend) easier. The columns for `by_file_wide` are as follows:\n",
    "\n",
    "* Index column: `date`\n",
    "* Columns to expand: `user`\n",
    "* Value columns: `pid`\n",
    "* Fill value: `0`"
   ]
  },
  {
   "cell_type": "code",
   "execution_count": 151,
   "metadata": {
    "dc": {
     "key": "68"
    },
    "tags": [
     "sample_code"
    ]
   },
   "outputs": [
    {
     "data": {
      "image/png": "[encoded data removed]",
      "text/plain": [
       "<Figure size 432x288 with 1 Axes>"
      ]
     },
     "metadata": {
      "needs_background": "light"
     },
     "output_type": "display_data"
    }
   ],
   "source": [
    "authors = ['xeno-by', 'soc']\n",
    "file = 'src/compiler/scala/reflect/reify/phases/Calculate.scala'\n",
    "\n",
    "# Select the pull requests submitted by the authors, from the `data` DataFrame\n",
    "by_author = data[data['user'].isin(authors)]\n",
    "\n",
    "# Select the pull requests that affect the file\n",
    "by_file = by_author[by_author['file']==file]\n",
    "\n",
    "# Group and count the number of PRs done by each user each year\n",
    "grouped = by_file.groupby(['user', by_file['date'].dt.year]).count()['pid'].reset_index()\n",
    "\n",
    "# Transform the data into a wide format\n",
    "by_file_wide = grouped.pivot_table(index='date', columns='user', values='pid', fill_value=0)\n",
    "\n",
    "# Plot the results\n",
    "by_file_wide.plot(kind='bar')\n",
    "plt.show()"
   ]
  },
  {
   "cell_type": "code",
   "execution_count": 152,
   "metadata": {
    "dc": {
     "key": "68"
    },
    "hide": true,
    "tags": [
     "tests"
    ]
   },
   "outputs": [
    {
     "data": {
      "application/json": "{\"success\": true, \"summary\": {\"tests\": 3, \"failures\": 0, \"errors\": 0}, \"tests\": [{\"name\": \"__main__.test_by_author\", \"success\": true, \"message\": \"\"}, {\"name\": \"__main__.test_by_file\", \"success\": true, \"message\": \"\"}, {\"name\": \"__main__.test_by_file_wide\", \"success\": true, \"message\": \"\"}]}"
     },
     "metadata": {},
     "output_type": "display_data"
    },
    {
     "data": {
      "text/plain": [
       "3/3 tests passed\n"
      ]
     },
     "execution_count": 152,
     "metadata": {},
     "output_type": "execute_result"
    }
   ],
   "source": [
    "%%nose\n",
    "\n",
    "# one or more tests of the students code. \n",
    "# The @solution should pass the tests.\n",
    "# The purpose of the tests is to try to catch common errors and to \n",
    "# give the student a hint on how to resolve these errors.\n",
    "\n",
    "def test_by_author():\n",
    "    assert len(by_author) == 16999, \\\n",
    "    'Selecting by author did not produce the expected results.'\n",
    "    \n",
    "def test_by_file():\n",
    "    assert len(by_file) == 15, \\\n",
    "    'Selecting by file did not produce the expected results.'\n",
    "    \n",
    "# def test_grouped():\n",
    "#     assert len(grouped) == 4, \\\n",
    "#     'There should be only 3 years that matches our data.'\n",
    "    \n",
    "def test_by_file_wide():\n",
    "    assert len(by_file_wide) == 3, \\\n",
    "    'There should be only 3 years that matches our data.'"
   ]
  }
 ],
 "metadata": {
  "kernelspec": {
   "display_name": "Python 3 (ipykernel)",
   "language": "python",
   "name": "python3"
  },
  "language_info": {
   "codemirror_mode": {
    "name": "ipython",
    "version": 3
   },
   "file_extension": ".py",
   "mimetype": "text/x-python",
   "name": "python",
   "nbconvert_exporter": "python",
   "pygments_lexer": "ipython3",
   "version": "3.9.7"
  }
 },
 "nbformat": 4,
 "nbformat_minor": 2
}
